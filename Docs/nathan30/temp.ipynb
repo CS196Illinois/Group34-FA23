{
 "cells": [
  {
   "cell_type": "code",
   "execution_count": null,
   "id": "be13cef2-8cf0-4571-888d-2e8a47440acc",
   "metadata": {},
   "outputs": [],
   "source": [
    "print(\"I have never watched the office\")"
   ]
  }
 ],
 "metadata": {
  "kernelspec": {
   "display_name": "Python 3 (ipykernel)",
   "language": "python",
   "name": "python3"
  },
  "language_info": {
   "codemirror_mode": {
    "name": "ipython",
    "version": 3
   },
   "file_extension": ".py",
   "mimetype": "text/x-python",
   "name": "python",
   "nbconvert_exporter": "python",
   "pygments_lexer": "ipython3",
   "version": "3.9.6"
  }
 },
 "nbformat": 4,
 "nbformat_minor": 5
}
