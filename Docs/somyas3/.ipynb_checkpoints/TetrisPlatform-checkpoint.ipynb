{
 "cells": [
  {
   "cell_type": "code",
   "execution_count": 1,
   "id": "04eecaa9-c27c-4ee5-b1d1-7df62bec248f",
   "metadata": {},
   "outputs": [
    {
     "name": "stdout",
     "output_type": "stream",
     "text": [
      "pygame 2.5.2 (SDL 2.28.3, Python 3.9.6)\n",
      "Hello from the pygame community. https://www.pygame.org/contribute.html\n"
     ]
    }
   ],
   "source": [
    "import os #interacting with operating system\n",
    "\n",
    "import random \n",
    "import math \n",
    "import pygame \n",
    "\n",
    "from os import listdir\n",
    "#used to get a list of all the files and directories in a specified directory \n",
    "\n",
    "from os.path import isfile, join \n",
    "#isfile is used to check if the file is present in the os or not \n",
    "#to join one or more paths (?)\n",
    "#We are going to be dynamically loading all the sprite sheets and images \n",
    "\n",
    "pygame.init()\n",
    "\n",
    "pygame.display.set_caption(\"Platformer\")\n",
    "\n",
    "#BG_COLOR = (255, 255, 255) #We have currently chosen white as the background colour \n",
    "WIDTH, HEIGHT = 800, 600\n",
    "FPS = 60 \n",
    "PLAYER_VEL = 5\n",
    "\n",
    "window = pygame.display.set_mode((WIDTH, HEIGHT))\n"
   ]
  },
  {
   "cell_type": "code",
   "execution_count": null,
   "id": "07eac2fc-1e61-451b-987b-397e283b9f30",
   "metadata": {},
   "outputs": [],
   "source": [
    "def flip(sprites): \n",
    "    return [pyagme.transform.flip(sprite, True, False) for sprite in sprites]\n",
    "\n",
    "def load\n",
    "    "
   ]
  },
  {
   "cell_type": "code",
   "execution_count": 2,
   "id": "c9a2f725-3aaa-49ce-81b5-03cf3f312b97",
   "metadata": {},
   "outputs": [],
   "source": [
    "class Player(pygame.sprite.Sprite):\n",
    "    COLOR = (255, 0, 0)\n",
    "    GRAVITY = 1\n",
    "    \n",
    "    def __init__(self, x, y, width, height):\n",
    "        self.rect = pygame.Rect(x, y, width, height) \n",
    "        # rect is basically a tupple storing 4 values \n",
    "        self.x_vel = 0\n",
    "        self.y_vel = 0\n",
    "        self.mask = None \n",
    "        self.direction = \"left\" \n",
    "        self.animation_count = 0\n",
    "        self.fall_count = 0\n",
    "        \n",
    "\n",
    "    def move(self, dx, dy):\n",
    "         self.rect.x += dx\n",
    "         self.rect.y += dy\n",
    "\n",
    "    def move_left(self, vel):\n",
    "        self.x_vel = - vel\n",
    "        if self.direction != \"left\":\n",
    "            self.direction = \"left\" \n",
    "            self.animation_count = 0 \n",
    "\n",
    "    def move_right(self, vel):\n",
    "        self.x_vel = vel\n",
    "        if self.direction != \"right\":\n",
    "            self.direction = \"right\" \n",
    "            self.animation_count = 0 \n",
    "\n",
    "    def loop(self, fps):\n",
    "        self.y_vel += min(1, (self.fall_count / fps) * self.GRAVITY)\n",
    "        self.move(self.x_vel, self.y_vel)\n",
    "\n",
    "        self.fall_count += 1\n",
    "\n",
    "    def draw(self, win):\n",
    "        pygame.draw.rect(win, self.COLOR, self.rect)\n",
    "        \n",
    "        \n",
    "        "
   ]
  },
  {
   "cell_type": "code",
   "execution_count": 3,
   "id": "2a7cc2cf-29e5-4d56-88f6-82e7edf05948",
   "metadata": {},
   "outputs": [],
   "source": [
    "def get_background(name):\n",
    "    #pass\n",
    "    image = pygame.image.load(join(\"Python-Platformer\",\"assets\", \"Background\", name))\n",
    "    x, y, width, height = image.get_rect()\n",
    "    tiles = []\n",
    "\n",
    "    for i in range(WIDTH // width + 1):\n",
    "        for j in range(HEIGHT // height + 1):\n",
    "            pos = (i * width, j * height) #position of the top left hand corner \n",
    "            tiles.append(pos)\n",
    "\n",
    "    return tiles, image\n",
    "    "
   ]
  },
  {
   "cell_type": "code",
   "execution_count": 4,
   "id": "a221b846-aec3-4550-ac60-becc8fc948a3",
   "metadata": {},
   "outputs": [],
   "source": [
    "def draw(window, background, bg_image, player):\n",
    "    for tile in background :\n",
    "        window.blit(bg_image, tile)\n",
    "\n",
    "    player.draw(window)\n",
    "    \n",
    "    pygame.display.update()"
   ]
  },
  {
   "cell_type": "code",
   "execution_count": 5,
   "id": "dfea6a27-fad0-4a4f-9e50-78297212f22c",
   "metadata": {},
   "outputs": [],
   "source": [
    "def handle_move(player):\n",
    "    keys = pygame.key.get_pressed()\n",
    "\n",
    "    player.x_vel = 0\n",
    "    if keys[pygame.K_LEFT]:\n",
    "        player.move_left(PLAYER_VEL)\n",
    "    if keys[pygame.K_RIGHT]:\n",
    "        player.move_right(PLAYER_VEL)"
   ]
  },
  {
   "cell_type": "code",
   "execution_count": 6,
   "id": "a504a48f-53bb-4622-bc7f-30d9101f128a",
   "metadata": {},
   "outputs": [],
   "source": [
    "def main(window): \n",
    "    clock = pygame.time.Clock()\n",
    "    background, bg_image = get_background(\"Blue.png\")\n",
    "\n",
    "    player = Player(100, 100, 50, 50)\n",
    "    \n",
    "    run = True\n",
    "    while run:\n",
    "        clock.tick(FPS)\n",
    "        #this maintains that our while loop runs 60 FPS\n",
    "        \n",
    "        for event in pygame.event.get():\n",
    "            if event.type == pygame.QUIT:\n",
    "                run = False\n",
    "                break \n",
    "                \n",
    "        player.loop(FPS)\n",
    "        handle_move(player)\n",
    "        draw(window, background, bg_image, player)\n",
    "\n",
    "    pygame.quit()\n",
    "    quit()\n",
    "                \n",
    "   \n",
    "    #pass\n",
    "    #pass is a null statement which can be used as placeholder for future code \n",
    "    #suppose we have a loop we don't want to execute yet then we use pass so we can use it in the future \n",
    "    \n",
    "\n",
    "if __name__ == \"__main__\" :\n",
    "    main(window)\n",
    "    "
   ]
  },
  {
   "cell_type": "code",
   "execution_count": null,
   "id": "b0b10edd-414f-43cd-a88d-ca4b4acb6dcf",
   "metadata": {},
   "outputs": [],
   "source": []
  }
 ],
 "metadata": {
  "kernelspec": {
   "display_name": "Python 3 (ipykernel)",
   "language": "python",
   "name": "python3"
  },
  "language_info": {
   "codemirror_mode": {
    "name": "ipython",
    "version": 3
   },
   "file_extension": ".py",
   "mimetype": "text/x-python",
   "name": "python",
   "nbconvert_exporter": "python",
   "pygments_lexer": "ipython3",
   "version": "3.9.6"
  }
 },
 "nbformat": 4,
 "nbformat_minor": 5
}
