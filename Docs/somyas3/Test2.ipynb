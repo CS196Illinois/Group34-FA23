{
 "cells": [
  {
   "cell_type": "code",
   "execution_count": null,
   "id": "6ef1ed56-e447-487b-b218-9513c12c6273",
   "metadata": {},
   "outputs": [],
   "source": [
    "print(\"I am not flexible\")"
   ]
  }
 ],
 "metadata": {
  "kernelspec": {
   "display_name": "Python 3 (ipykernel)",
   "language": "python",
   "name": "python3"
  },
  "language_info": {
   "codemirror_mode": {
    "name": "ipython",
    "version": 3
   },
   "file_extension": ".py",
   "mimetype": "text/x-python",
   "name": "python",
   "nbconvert_exporter": "python",
   "pygments_lexer": "ipython3",
   "version": "3.9.6"
  }
 },
 "nbformat": 4,
 "nbformat_minor": 5
}
