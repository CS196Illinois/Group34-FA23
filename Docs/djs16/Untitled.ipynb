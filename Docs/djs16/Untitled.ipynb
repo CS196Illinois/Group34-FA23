{
 "cells": [
  {
   "cell_type": "code",
   "execution_count": null,
   "id": "855b1cea-d40d-4020-8c1f-c33342ff40d3",
   "metadata": {},
   "outputs": [],
   "source": [
    "import zipfile"
   ]
  },
  {
   "cell_type": "code",
   "execution_count": null,
   "id": "afe15cdf-c7d9-4f31-8bae-0f3547bb7128",
   "metadata": {},
   "outputs": [],
   "source": [
    "with zipfile.ZipFile('Python-Platformer-main.zip', 'r') as zip_ref:\n",
    "    zip_ref.extractall()"
   ]
  },
  {
   "cell_type": "code",
   "execution_count": null,
   "id": "1605063a-f176-4da9-ad79-09f3af3f6f2a",
   "metadata": {},
   "outputs": [],
   "source": []
  }
 ],
 "metadata": {
  "kernelspec": {
   "display_name": "Python 3 (ipykernel)",
   "language": "python",
   "name": "python3"
  },
  "language_info": {
   "codemirror_mode": {
    "name": "ipython",
    "version": 3
   },
   "file_extension": ".py",
   "mimetype": "text/x-python",
   "name": "python",
   "nbconvert_exporter": "python",
   "pygments_lexer": "ipython3",
   "version": "3.11.0"
  }
 },
 "nbformat": 4,
 "nbformat_minor": 5
}
