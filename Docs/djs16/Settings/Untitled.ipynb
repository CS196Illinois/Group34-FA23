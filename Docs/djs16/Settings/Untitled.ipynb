{
 "cells": [
  {
   "cell_type": "code",
   "execution_count": null,
   "id": "a34ba57b-f3a1-4ed7-b724-e12defed4c46",
   "metadata": {},
   "outputs": [],
   "source": [
    "import pygame as pg\n",
    "\n",
    "vec = pg.math.Vector2\n",
    "\n",
    "SPRITE_DIR_PATH = 'assets/Terrain'\n",
    "FONT_PATH = 'assets/font/FREAKSOFNATUREMASSIVE.ttf'\n",
    "\n",
    "ANIM_TIME_INTERVAL = 150  # milliseconds\n",
    "FAST_ANIM_TIME_INTERVAL = 15\n",
    "\n",
    "TILE_SIZE = 50\n",
    "FIELD_SIZE = FIELD_W, FIELD_H = 10, 20\n",
    "FIELD_RES = FIELD_W * TILE_SIZE, FIELD_H * TILE_SIZE\n",
    "\n",
    "INIT_POS_OFFSET = vec(FIELD_W // 2 - 1, 0)\n",
    "NEXT_POS_OFFSET = vec(FIELD_W * 1.3, FIELD_H * 0.45)\n",
    "MOVE_DIRECTIONS = {'left': vec(-1, 0), 'right': vec(1, 0), 'down': vec(0, 1)}\n",
    "\n",
    "TETROMINOES = {\n",
    "    'T': [(0, 0), (-1, 0), (1, 0), (0, -1)],\n",
    "    'O': [(0, 0), (0, -1), (1, 0), (1, -1)],\n",
    "    'J': [(0, 0), (-1, 0), (0, -1), (0, -2)],\n",
    "    'L': [(0, 0), (1, 0), (0, -1), (0, -2)],\n",
    "    'I': [(0, 0), (0, 1), (0, -1), (0, -2)],\n",
    "    'S': [(0, 0), (-1, 0), (0, -1), (1, -1)],\n",
    "    'Z': [(0, 0), (1, 0), (0, -1), (-1, -1)]\n",
    "}"
   ]
  }
 ],
 "metadata": {
  "kernelspec": {
   "display_name": "Python 3 (ipykernel)",
   "language": "python",
   "name": "python3"
  },
  "language_info": {
   "codemirror_mode": {
    "name": "ipython",
    "version": 3
   },
   "file_extension": ".py",
   "mimetype": "text/x-python",
   "name": "python",
   "nbconvert_exporter": "python",
   "pygments_lexer": "ipython3",
   "version": "3.11.0"
  }
 },
 "nbformat": 4,
 "nbformat_minor": 5
}
