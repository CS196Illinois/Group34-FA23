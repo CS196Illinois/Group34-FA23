{
 "cells": [
  {
   "cell_type": "code",
   "execution_count": 1,
   "id": "37d7b49e-d3a7-4e3b-bd27-caf5ef12bb6f",
   "metadata": {},
   "outputs": [
    {
     "name": "stdout",
     "output_type": "stream",
     "text": [
      "I got stranded at the zoo with my family one time\n"
     ]
    }
   ],
   "source": [
    "print(\"I got stranded at the zoo with my family one time\")"
   ]
  },
  {
   "cell_type": "code",
   "execution_count": null,
   "id": "079ff846-0b5c-48f9-b1e6-0d1bf69dcf86",
   "metadata": {},
   "outputs": [],
   "source": []
  }
 ],
 "metadata": {
  "kernelspec": {
   "display_name": "Python 3 (ipykernel)",
   "language": "python",
   "name": "python3"
  },
  "language_info": {
   "codemirror_mode": {
    "name": "ipython",
    "version": 3
   },
   "file_extension": ".py",
   "mimetype": "text/x-python",
   "name": "python",
   "nbconvert_exporter": "python",
   "pygments_lexer": "ipython3",
   "version": "3.11.0"
  }
 },
 "nbformat": 4,
 "nbformat_minor": 5
}
