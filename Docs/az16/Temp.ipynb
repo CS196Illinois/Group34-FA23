{
 "cells": [
  {
   "cell_type": "code",
   "execution_count": 1,
   "id": "084b40f4-68bb-48b7-a37f-2edd42c3f33c",
   "metadata": {},
   "outputs": [
    {
     "name": "stdout",
     "output_type": "stream",
     "text": [
      "I like to play sandbox games like MC and Terraria\n"
     ]
    }
   ],
   "source": [
    "print(\"I like to play sandbox games like MC and Terraria\")"
   ]
  },
  {
   "cell_type": "code",
   "execution_count": null,
   "id": "37fd4795-8677-4950-806e-f70561c35fa9",
   "metadata": {},
   "outputs": [],
   "source": []
  }
 ],
 "metadata": {
  "kernelspec": {
   "display_name": "Python 3 (ipykernel)",
   "language": "python",
   "name": "python3"
  },
  "language_info": {
   "codemirror_mode": {
    "name": "ipython",
    "version": 3
   },
   "file_extension": ".py",
   "mimetype": "text/x-python",
   "name": "python",
   "nbconvert_exporter": "python",
   "pygments_lexer": "ipython3",
   "version": "3.9.6"
  }
 },
 "nbformat": 4,
 "nbformat_minor": 5
}
